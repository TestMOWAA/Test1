{
  "nbformat": 4,
  "nbformat_minor": 0,
  "metadata": {
    "colab": {
      "provenance": []
    },
    "kernelspec": {
      "name": "python3",
      "display_name": "Python 3"
    },
    "language_info": {
      "name": "python"
    }
  },
  "cells": [
    {
      "cell_type": "markdown",
      "source": [
        "##Load Data"
      ],
      "metadata": {
        "id": "_qwIU-7WVQc5"
      }
    },
    {
      "cell_type": "code",
      "source": [
        "import pandas as pd\n",
        "import numpy as np\n",
        "\n",
        "from math import radians, sin, cos, sqrt, atan2"
      ],
      "metadata": {
        "id": "G0aIy3dVSdCO"
      },
      "execution_count": null,
      "outputs": []
    },
    {
      "cell_type": "code",
      "source": [
        "usps_df = pd.read_excel('/content/zips ex.xlsx')  #Zipcode, Latitude, Longitude\n",
        "members_df = pd.read_excel('/content/MSA zip codes only.xlsx')\n",
        "partner_zips = ['60601', '30301', '10001', '94105']"
      ],
      "metadata": {
        "id": "BK7DY003NNWb"
      },
      "execution_count": null,
      "outputs": []
    },
    {
      "cell_type": "code",
      "execution_count": null,
      "metadata": {
        "id": "033smcsJxlrj"
      },
      "outputs": [],
      "source": [
        "#Haversine formula to compute distance in miles\n",
        "def haversine(lon1, lat1, lon2, lat2):\n",
        "    R = 3958.8\n",
        "    lon1, lat1, lon2, lat2 = map(np.radians, [lon1, lat1, lon2, lat2])\n",
        "    dlon = lon2 - lon1\n",
        "    dlat = lat2 - lat1\n",
        "    a = np.sin(dlat/2)**2 + np.cos(lat1) * np.cos(lat2) * np.sin(dlon/2)**2\n",
        "    c = 2 * np.arcsin(np.sqrt(a))\n",
        "    return R * c"
      ]
    },
    {
      "cell_type": "markdown",
      "source": [
        "##Check Zips"
      ],
      "metadata": {
        "id": "WnKo_MgDVUYC"
      }
    },
    {
      "cell_type": "code",
      "source": [
        "# --- Check and Clean ZIP Codes ---\n",
        "usps_zips_set = set(usps_df['Zipcode'].astype(str))\n",
        "\n",
        "# Member ZIP checks\n",
        "members_df['ZC.MOW SERVICE_ZIP'] = members_df['ZC.MOW SERVICE_ZIP'].astype(str)\n",
        "valid_member_df = members_df[members_df['ZC.MOW SERVICE_ZIP'].isin(usps_zips_set)]\n",
        "missing_member_zips = set(members_df['ZC.MOW SERVICE_ZIP']) - usps_zips_set\n",
        "\n",
        "# Partner ZIP checks\n",
        "partner_zips = [str(z) for z in partner_zips]\n",
        "valid_partner_zips = [z for z in partner_zips if z in usps_zips_set]\n",
        "missing_partner_zips = set(partner_zips) - usps_zips_set\n",
        "\n",
        "# Log missing ZIPs\n",
        "pd.DataFrame({'Missing Member Zips': list(missing_member_zips)}).to_csv('missing_member_zips.csv', index=False)\n",
        "pd.DataFrame({'Missing Partner Zips': list(missing_partner_zips)}).to_csv('missing_partner_zips.csv', index=False)\n",
        "\n",
        "print(f\"Members Valid: {len(valid_member_df)} | Missing: {len(missing_member_zips)}\")\n",
        "print(f\"Partners Valid: {len(valid_partner_zips)} | Missing: {len(missing_partner_zips)}\")\n"
      ],
      "metadata": {
        "id": "kATYiBJNUeTI",
        "colab": {
          "base_uri": "https://localhost:8080/"
        },
        "outputId": "a88d7590-12fb-495a-cbd2-e1959bdd7eb6"
      },
      "execution_count": null,
      "outputs": [
        {
          "output_type": "stream",
          "name": "stdout",
          "text": [
            "Members Valid: 22746 | Missing: 6041\n",
            "Partners Valid: 3 | Missing: 1\n"
          ]
        }
      ]
    },
    {
      "cell_type": "code",
      "source": [
        "valid_partner_zips"
      ],
      "metadata": {
        "colab": {
          "base_uri": "https://localhost:8080/"
        },
        "id": "vyCojq2ucizV",
        "outputId": "809bf5c1-2529-4161-fb24-9dd2454f130c"
      },
      "execution_count": null,
      "outputs": [
        {
          "output_type": "execute_result",
          "data": {
            "text/plain": [
              "['60601', '10001', '94105']"
            ]
          },
          "metadata": {},
          "execution_count": 58
        }
      ]
    },
    {
      "cell_type": "code",
      "source": [
        "#Change all datatypes to string\n",
        "usps_df['Zipcode'] = usps_df['Zipcode'].astype(str)\n",
        "valid_member_df['ZC.MOW SERVICE_ZIP'] = valid_member_df['ZC.MOW SERVICE_ZIP'].astype(str)"
      ],
      "metadata": {
        "colab": {
          "base_uri": "https://localhost:8080/"
        },
        "id": "0cvx2tJ8dGSa",
        "outputId": "8ac9ab59-4f6d-407d-bb69-49785fab9048"
      },
      "execution_count": null,
      "outputs": [
        {
          "output_type": "stream",
          "name": "stderr",
          "text": [
            "<ipython-input-59-65619ed55e65>:3: SettingWithCopyWarning: \n",
            "A value is trying to be set on a copy of a slice from a DataFrame.\n",
            "Try using .loc[row_indexer,col_indexer] = value instead\n",
            "\n",
            "See the caveats in the documentation: https://pandas.pydata.org/pandas-docs/stable/user_guide/indexing.html#returning-a-view-versus-a-copy\n",
            "  valid_member_df['ZC.MOW SERVICE_ZIP'] = valid_member_df['ZC.MOW SERVICE_ZIP'].astype(str)\n"
          ]
        }
      ]
    },
    {
      "cell_type": "code",
      "source": [
        "member_coords = usps_df[usps_df['Zipcode'].isin(valid_member_df['ZC.MOW SERVICE_ZIP'])]\n",
        "partner_coords = usps_df[usps_df['Zipcode'].isin(valid_partner_zips)]"
      ],
      "metadata": {
        "id": "znMxbCPxXTvC"
      },
      "execution_count": null,
      "outputs": []
    },
    {
      "cell_type": "code",
      "source": [
        "partner_coords.head()"
      ],
      "metadata": {
        "colab": {
          "base_uri": "https://localhost:8080/",
          "height": 143
        },
        "id": "idiP5slCdkX7",
        "outputId": "db5fb70d-e26e-4302-b527-7c43c7b99474"
      },
      "execution_count": null,
      "outputs": [
        {
          "output_type": "execute_result",
          "data": {
            "text/plain": [
              "      Zipcode  Latitude  Longitude\n",
              "2583    10001  40.75064  -73.99728\n",
              "21100   60601  41.88527  -87.62197\n",
              "31599   94105  37.79239 -122.39707"
            ],
            "text/html": [
              "\n",
              "  <div id=\"df-57796eaa-be88-4aae-9ef6-2a5b9451cb88\" class=\"colab-df-container\">\n",
              "    <div>\n",
              "<style scoped>\n",
              "    .dataframe tbody tr th:only-of-type {\n",
              "        vertical-align: middle;\n",
              "    }\n",
              "\n",
              "    .dataframe tbody tr th {\n",
              "        vertical-align: top;\n",
              "    }\n",
              "\n",
              "    .dataframe thead th {\n",
              "        text-align: right;\n",
              "    }\n",
              "</style>\n",
              "<table border=\"1\" class=\"dataframe\">\n",
              "  <thead>\n",
              "    <tr style=\"text-align: right;\">\n",
              "      <th></th>\n",
              "      <th>Zipcode</th>\n",
              "      <th>Latitude</th>\n",
              "      <th>Longitude</th>\n",
              "    </tr>\n",
              "  </thead>\n",
              "  <tbody>\n",
              "    <tr>\n",
              "      <th>2583</th>\n",
              "      <td>10001</td>\n",
              "      <td>40.75064</td>\n",
              "      <td>-73.99728</td>\n",
              "    </tr>\n",
              "    <tr>\n",
              "      <th>21100</th>\n",
              "      <td>60601</td>\n",
              "      <td>41.88527</td>\n",
              "      <td>-87.62197</td>\n",
              "    </tr>\n",
              "    <tr>\n",
              "      <th>31599</th>\n",
              "      <td>94105</td>\n",
              "      <td>37.79239</td>\n",
              "      <td>-122.39707</td>\n",
              "    </tr>\n",
              "  </tbody>\n",
              "</table>\n",
              "</div>\n",
              "    <div class=\"colab-df-buttons\">\n",
              "\n",
              "  <div class=\"colab-df-container\">\n",
              "    <button class=\"colab-df-convert\" onclick=\"convertToInteractive('df-57796eaa-be88-4aae-9ef6-2a5b9451cb88')\"\n",
              "            title=\"Convert this dataframe to an interactive table.\"\n",
              "            style=\"display:none;\">\n",
              "\n",
              "  <svg xmlns=\"http://www.w3.org/2000/svg\" height=\"24px\" viewBox=\"0 -960 960 960\">\n",
              "    <path d=\"M120-120v-720h720v720H120Zm60-500h600v-160H180v160Zm220 220h160v-160H400v160Zm0 220h160v-160H400v160ZM180-400h160v-160H180v160Zm440 0h160v-160H620v160ZM180-180h160v-160H180v160Zm440 0h160v-160H620v160Z\"/>\n",
              "  </svg>\n",
              "    </button>\n",
              "\n",
              "  <style>\n",
              "    .colab-df-container {\n",
              "      display:flex;\n",
              "      gap: 12px;\n",
              "    }\n",
              "\n",
              "    .colab-df-convert {\n",
              "      background-color: #E8F0FE;\n",
              "      border: none;\n",
              "      border-radius: 50%;\n",
              "      cursor: pointer;\n",
              "      display: none;\n",
              "      fill: #1967D2;\n",
              "      height: 32px;\n",
              "      padding: 0 0 0 0;\n",
              "      width: 32px;\n",
              "    }\n",
              "\n",
              "    .colab-df-convert:hover {\n",
              "      background-color: #E2EBFA;\n",
              "      box-shadow: 0px 1px 2px rgba(60, 64, 67, 0.3), 0px 1px 3px 1px rgba(60, 64, 67, 0.15);\n",
              "      fill: #174EA6;\n",
              "    }\n",
              "\n",
              "    .colab-df-buttons div {\n",
              "      margin-bottom: 4px;\n",
              "    }\n",
              "\n",
              "    [theme=dark] .colab-df-convert {\n",
              "      background-color: #3B4455;\n",
              "      fill: #D2E3FC;\n",
              "    }\n",
              "\n",
              "    [theme=dark] .colab-df-convert:hover {\n",
              "      background-color: #434B5C;\n",
              "      box-shadow: 0px 1px 3px 1px rgba(0, 0, 0, 0.15);\n",
              "      filter: drop-shadow(0px 1px 2px rgba(0, 0, 0, 0.3));\n",
              "      fill: #FFFFFF;\n",
              "    }\n",
              "  </style>\n",
              "\n",
              "    <script>\n",
              "      const buttonEl =\n",
              "        document.querySelector('#df-57796eaa-be88-4aae-9ef6-2a5b9451cb88 button.colab-df-convert');\n",
              "      buttonEl.style.display =\n",
              "        google.colab.kernel.accessAllowed ? 'block' : 'none';\n",
              "\n",
              "      async function convertToInteractive(key) {\n",
              "        const element = document.querySelector('#df-57796eaa-be88-4aae-9ef6-2a5b9451cb88');\n",
              "        const dataTable =\n",
              "          await google.colab.kernel.invokeFunction('convertToInteractive',\n",
              "                                                    [key], {});\n",
              "        if (!dataTable) return;\n",
              "\n",
              "        const docLinkHtml = 'Like what you see? Visit the ' +\n",
              "          '<a target=\"_blank\" href=https://colab.research.google.com/notebooks/data_table.ipynb>data table notebook</a>'\n",
              "          + ' to learn more about interactive tables.';\n",
              "        element.innerHTML = '';\n",
              "        dataTable['output_type'] = 'display_data';\n",
              "        await google.colab.output.renderOutput(dataTable, element);\n",
              "        const docLink = document.createElement('div');\n",
              "        docLink.innerHTML = docLinkHtml;\n",
              "        element.appendChild(docLink);\n",
              "      }\n",
              "    </script>\n",
              "  </div>\n",
              "\n",
              "\n",
              "    <div id=\"df-af024d46-fa59-4f5e-a6ee-af0416cc353f\">\n",
              "      <button class=\"colab-df-quickchart\" onclick=\"quickchart('df-af024d46-fa59-4f5e-a6ee-af0416cc353f')\"\n",
              "                title=\"Suggest charts\"\n",
              "                style=\"display:none;\">\n",
              "\n",
              "<svg xmlns=\"http://www.w3.org/2000/svg\" height=\"24px\"viewBox=\"0 0 24 24\"\n",
              "     width=\"24px\">\n",
              "    <g>\n",
              "        <path d=\"M19 3H5c-1.1 0-2 .9-2 2v14c0 1.1.9 2 2 2h14c1.1 0 2-.9 2-2V5c0-1.1-.9-2-2-2zM9 17H7v-7h2v7zm4 0h-2V7h2v10zm4 0h-2v-4h2v4z\"/>\n",
              "    </g>\n",
              "</svg>\n",
              "      </button>\n",
              "\n",
              "<style>\n",
              "  .colab-df-quickchart {\n",
              "      --bg-color: #E8F0FE;\n",
              "      --fill-color: #1967D2;\n",
              "      --hover-bg-color: #E2EBFA;\n",
              "      --hover-fill-color: #174EA6;\n",
              "      --disabled-fill-color: #AAA;\n",
              "      --disabled-bg-color: #DDD;\n",
              "  }\n",
              "\n",
              "  [theme=dark] .colab-df-quickchart {\n",
              "      --bg-color: #3B4455;\n",
              "      --fill-color: #D2E3FC;\n",
              "      --hover-bg-color: #434B5C;\n",
              "      --hover-fill-color: #FFFFFF;\n",
              "      --disabled-bg-color: #3B4455;\n",
              "      --disabled-fill-color: #666;\n",
              "  }\n",
              "\n",
              "  .colab-df-quickchart {\n",
              "    background-color: var(--bg-color);\n",
              "    border: none;\n",
              "    border-radius: 50%;\n",
              "    cursor: pointer;\n",
              "    display: none;\n",
              "    fill: var(--fill-color);\n",
              "    height: 32px;\n",
              "    padding: 0;\n",
              "    width: 32px;\n",
              "  }\n",
              "\n",
              "  .colab-df-quickchart:hover {\n",
              "    background-color: var(--hover-bg-color);\n",
              "    box-shadow: 0 1px 2px rgba(60, 64, 67, 0.3), 0 1px 3px 1px rgba(60, 64, 67, 0.15);\n",
              "    fill: var(--button-hover-fill-color);\n",
              "  }\n",
              "\n",
              "  .colab-df-quickchart-complete:disabled,\n",
              "  .colab-df-quickchart-complete:disabled:hover {\n",
              "    background-color: var(--disabled-bg-color);\n",
              "    fill: var(--disabled-fill-color);\n",
              "    box-shadow: none;\n",
              "  }\n",
              "\n",
              "  .colab-df-spinner {\n",
              "    border: 2px solid var(--fill-color);\n",
              "    border-color: transparent;\n",
              "    border-bottom-color: var(--fill-color);\n",
              "    animation:\n",
              "      spin 1s steps(1) infinite;\n",
              "  }\n",
              "\n",
              "  @keyframes spin {\n",
              "    0% {\n",
              "      border-color: transparent;\n",
              "      border-bottom-color: var(--fill-color);\n",
              "      border-left-color: var(--fill-color);\n",
              "    }\n",
              "    20% {\n",
              "      border-color: transparent;\n",
              "      border-left-color: var(--fill-color);\n",
              "      border-top-color: var(--fill-color);\n",
              "    }\n",
              "    30% {\n",
              "      border-color: transparent;\n",
              "      border-left-color: var(--fill-color);\n",
              "      border-top-color: var(--fill-color);\n",
              "      border-right-color: var(--fill-color);\n",
              "    }\n",
              "    40% {\n",
              "      border-color: transparent;\n",
              "      border-right-color: var(--fill-color);\n",
              "      border-top-color: var(--fill-color);\n",
              "    }\n",
              "    60% {\n",
              "      border-color: transparent;\n",
              "      border-right-color: var(--fill-color);\n",
              "    }\n",
              "    80% {\n",
              "      border-color: transparent;\n",
              "      border-right-color: var(--fill-color);\n",
              "      border-bottom-color: var(--fill-color);\n",
              "    }\n",
              "    90% {\n",
              "      border-color: transparent;\n",
              "      border-bottom-color: var(--fill-color);\n",
              "    }\n",
              "  }\n",
              "</style>\n",
              "\n",
              "      <script>\n",
              "        async function quickchart(key) {\n",
              "          const quickchartButtonEl =\n",
              "            document.querySelector('#' + key + ' button');\n",
              "          quickchartButtonEl.disabled = true;  // To prevent multiple clicks.\n",
              "          quickchartButtonEl.classList.add('colab-df-spinner');\n",
              "          try {\n",
              "            const charts = await google.colab.kernel.invokeFunction(\n",
              "                'suggestCharts', [key], {});\n",
              "          } catch (error) {\n",
              "            console.error('Error during call to suggestCharts:', error);\n",
              "          }\n",
              "          quickchartButtonEl.classList.remove('colab-df-spinner');\n",
              "          quickchartButtonEl.classList.add('colab-df-quickchart-complete');\n",
              "        }\n",
              "        (() => {\n",
              "          let quickchartButtonEl =\n",
              "            document.querySelector('#df-af024d46-fa59-4f5e-a6ee-af0416cc353f button');\n",
              "          quickchartButtonEl.style.display =\n",
              "            google.colab.kernel.accessAllowed ? 'block' : 'none';\n",
              "        })();\n",
              "      </script>\n",
              "    </div>\n",
              "\n",
              "    </div>\n",
              "  </div>\n"
            ],
            "application/vnd.google.colaboratory.intrinsic+json": {
              "type": "dataframe",
              "variable_name": "partner_coords",
              "summary": "{\n  \"name\": \"partner_coords\",\n  \"rows\": 3,\n  \"fields\": [\n    {\n      \"column\": \"Zipcode\",\n      \"properties\": {\n        \"dtype\": \"string\",\n        \"num_unique_values\": 3,\n        \"samples\": [\n          \"10001\",\n          \"60601\",\n          \"94105\"\n        ],\n        \"semantic_type\": \"\",\n        \"description\": \"\"\n      }\n    },\n    {\n      \"column\": \"Latitude\",\n      \"properties\": {\n        \"dtype\": \"number\",\n        \"std\": 2.1130662946612286,\n        \"min\": 37.79239,\n        \"max\": 41.88527,\n        \"num_unique_values\": 3,\n        \"samples\": [\n          40.75064,\n          41.88527,\n          37.79239\n        ],\n        \"semantic_type\": \"\",\n        \"description\": \"\"\n      }\n    },\n    {\n      \"column\": \"Longitude\",\n      \"properties\": {\n        \"dtype\": \"number\",\n        \"std\": 24.958229870626507,\n        \"min\": -122.39707,\n        \"max\": -73.99728,\n        \"num_unique_values\": 3,\n        \"samples\": [\n          -73.99728,\n          -87.62197,\n          -122.39707\n        ],\n        \"semantic_type\": \"\",\n        \"description\": \"\"\n      }\n    }\n  ]\n}"
            }
          },
          "metadata": {},
          "execution_count": 61
        }
      ]
    },
    {
      "cell_type": "markdown",
      "source": [
        "#Calculate Distance"
      ],
      "metadata": {
        "id": "0NqDTvBGVXuX"
      }
    },
    {
      "cell_type": "code",
      "source": [
        "#Create distance matrix using broadcasting\n",
        "partner_lats = partner_coords['Latitude'].values\n",
        "partner_lons = partner_coords['Longitude'].values\n",
        "member_lats = member_coords['Latitude'].values\n",
        "member_lons = member_coords['Longitude'].values\n",
        "\n",
        "#Expand dimensions for broadcasting\n",
        "partner_lats_2d = partner_lats[:, np.newaxis]\n",
        "partner_lons_2d = partner_lons[:, np.newaxis]"
      ],
      "metadata": {
        "id": "5rv_z3qlNWHz"
      },
      "execution_count": null,
      "outputs": []
    },
    {
      "cell_type": "code",
      "source": [
        "#Calculate distances (Partner ZIPs vs Member ZIPs)\n",
        "distances = haversine(partner_lons_2d, partner_lats_2d, member_lons, member_lats)"
      ],
      "metadata": {
        "id": "1oAuxxtzOTKK"
      },
      "execution_count": null,
      "outputs": []
    },
    {
      "cell_type": "code",
      "source": [
        "#Build DataFrame\n",
        "distance_matrix = pd.DataFrame(distances, index=partner_coords['Zipcode'], columns=member_coords['Zipcode'])"
      ],
      "metadata": {
        "id": "G8cUUK6MOXrN"
      },
      "execution_count": null,
      "outputs": []
    },
    {
      "cell_type": "markdown",
      "source": [
        "##Output"
      ],
      "metadata": {
        "id": "IqaBTtpmVcVG"
      }
    },
    {
      "cell_type": "code",
      "source": [
        "#Closest member to each partner\n",
        "#closest_member_to_partner = distance_matrix.idxmin(axis=1)\n",
        "\n",
        "#Closest partner to each member (transpose and find min)\n",
        "#closest_partner_to_member = distance_matrix.T.idxmin(axis=1)"
      ],
      "metadata": {
        "id": "Z60m_0BvOb-u"
      },
      "execution_count": null,
      "outputs": []
    },
    {
      "cell_type": "code",
      "source": [
        "#Closest member to each partner\n",
        "closest_member_zips = distance_matrix.idxmin(axis=1)\n",
        "zip_to_org = valid_member_df.set_index('ZC.MOW SERVICE_ZIP')['OR.MOW ORG_CST_KEY'].to_dict()\n",
        "closest_member_org_keys = closest_member_zips.map(zip_to_org)\n",
        "\n",
        "closest_member_detail = pd.DataFrame({\n",
        "    'Partner ZIP': closest_member_zips.index,\n",
        "    'Closest Member ZIP': closest_member_zips.values,\n",
        "    'Closest Member ORG_CST_KEY': closest_member_org_keys.values\n",
        "})"
      ],
      "metadata": {
        "id": "kcjPG5bclSMU"
      },
      "execution_count": null,
      "outputs": []
    },
    {
      "cell_type": "code",
      "source": [
        "#Closest partner to each member\n",
        "closest_partner_zips = distance_matrix.T.idxmin(axis=1)\n",
        "\n",
        "closest_partner_detail = pd.DataFrame({\n",
        "    'Member ZIP': closest_partner_zips.index,\n",
        "    'Closest Partner ZIP': closest_partner_zips.values\n",
        "})"
      ],
      "metadata": {
        "id": "-HfItVjglXIg"
      },
      "execution_count": null,
      "outputs": []
    },
    {
      "cell_type": "code",
      "source": [
        "# Save outputs\n",
        "closest_member_detail.to_csv('closest_member_to_partner_with_org.csv', index=False)\n",
        "closest_partner_detail.to_csv('closest_partner_to_member.csv', index=False)\n",
        "distance_matrix.to_csv('distance_matrix.csv')"
      ],
      "metadata": {
        "id": "fBr3CQwUPsnm"
      },
      "execution_count": null,
      "outputs": []
    }
  ]
}